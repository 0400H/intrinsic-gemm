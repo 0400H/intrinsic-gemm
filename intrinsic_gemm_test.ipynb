{
 "cells": [
  {
   "cell_type": "code",
   "execution_count": 1,
   "metadata": {},
   "outputs": [],
   "source": [
    "import ctypes\n",
    "import numpy as np\n",
    "import numba as nb"
   ]
  },
  {
   "cell_type": "code",
   "execution_count": 2,
   "metadata": {},
   "outputs": [],
   "source": [
    "intrinsic_gemm_so = ctypes.CDLL('./libintrinsic_gemm.so')"
   ]
  },
  {
   "cell_type": "code",
   "execution_count": 3,
   "metadata": {},
   "outputs": [],
   "source": [
    "@nb.jit(nopython=True)\n",
    "def cout_diff(matrix_a, matrix_b, length, loss_rate=1e-4, debug=False):\n",
    "    diff_num = 0\n",
    "    zero_offset = 1e-10\n",
    "    for idx in range(length):\n",
    "        cur_loss_rate = abs(float(matrix_b[idx] - matrix_a[idx])) / (abs(float(matrix_a[idx]))+zero_offset)\n",
    "        if cur_loss_rate > loss_rate:\n",
    "            diff_num += 1\n",
    "        if debug == True:\n",
    "            print(idx, matrix_a[idx], matrix_b[idx])\n",
    "    return float(diff_num) / float(length)"
   ]
  },
  {
   "cell_type": "code",
   "execution_count": 4,
   "metadata": {},
   "outputs": [],
   "source": [
    "@nb.jit(nopython=True)\n",
    "def gemm_reference(matrix_a, matrix_b, matrix_c, m, n, k):\n",
    "    for m_idx in range(m):\n",
    "        for n_idx in range(n):\n",
    "            for k_idx in range(k):\n",
    "                matrix_c[m_idx*n+n_idx] += matrix_a[m_idx*k+k_idx] * matrix_a[n_idx*k+k_idx];\n",
    "    return None"
   ]
  },
  {
   "cell_type": "code",
   "execution_count": 5,
   "metadata": {},
   "outputs": [],
   "source": [
    "def intrinsic_gemm_impl(matrix_a, matrix_b, matrix_c, m, n, k):\n",
    "    get_instance_func = intrinsic_gemm_so.get_instance\n",
    "    get_instance_func.argtypes = (ctypes.c_int, ctypes.c_int, ctypes.c_int)\n",
    "    get_instance_func.restype = ctypes.c_void_p\n",
    "\n",
    "    instance_init_func = intrinsic_gemm_so.instance_init\n",
    "    instance_init_func.argtypes = (ctypes.c_void_p, ctypes.c_bool, ctypes.c_bool, ctypes.c_int, ctypes.c_int, ctypes.c_int)\n",
    "    instance_init_func.restype = ctypes.c_int\n",
    "\n",
    "    instance_dispatch_func = intrinsic_gemm_so.instance_dispatch\n",
    "    instance_dispatch_func.argtypes =  (ctypes.c_void_p, ctypes.c_float, ctypes.c_float, ctypes.c_void_p, ctypes.c_void_p, ctypes.c_void_p)\n",
    "    instance_dispatch_func.restype = ctypes.c_int\n",
    "\n",
    "    intrinnsic_gemm_engine = get_instance_func(3, 3, 5)\n",
    "    status = instance_init_func(intrinnsic_gemm_engine, False, False, m, n, k)\n",
    "    status = instance_dispatch_func(intrinnsic_gemm_engine, 1.0, 1.0,\n",
    "                                    matrix_a.ctypes.data_as(ctypes.c_void_p),\n",
    "                                    matrix_b.ctypes.data_as(ctypes.c_void_p),\n",
    "                                    matrix_c.ctypes.data_as(ctypes.c_void_p))\n",
    "    return None"
   ]
  },
  {
   "cell_type": "code",
   "execution_count": 6,
   "metadata": {},
   "outputs": [],
   "source": [
    "def test(m, n, k, debug=False):\n",
    "    if debug == True:\n",
    "        matrix_a = np.ones(m*k, dtype=np.int8)\n",
    "        matrix_b = np.ones(n*k, dtype=np.int8)\n",
    "    else:\n",
    "        matrix_a = np.arange(0, m*k, 1, dtype=np.int8)\n",
    "        matrix_b = np.arange(0, n*k, 1, dtype=np.int8)\n",
    "    matrix_c= np.zeros(shape=(m*n), dtype=np.int32)\n",
    "    matrix_c_ref = np.zeros(shape=(m*n), dtype=np.float)\n",
    "\n",
    "    intrinsic_gemm_impl(matrix_a, matrix_b, matrix_c, m, n, k)\n",
    "    gemm_reference(matrix_a.copy().astype(np.float), matrix_b.copy().astype(np.float), matrix_c_ref, m, n, k)\n",
    "\n",
    "    error_rate = cout_diff(matrix_c_ref, matrix_c, m*n, 1e-4, debug)\n",
    "    print('error_rate:',error_rate)\n",
    "    return None"
   ]
  },
  {
   "cell_type": "code",
   "execution_count": 7,
   "metadata": {},
   "outputs": [
    {
     "name": "stdout",
     "output_type": "stream",
     "text": [
      "error_rate: 0.0\n"
     ]
    }
   ],
   "source": [
    "m, n, k = 95, 95, 32768\n",
    "test(m, n, k, False)"
   ]
  },
  {
   "cell_type": "code",
   "execution_count": null,
   "metadata": {},
   "outputs": [],
   "source": []
  }
 ],
 "metadata": {
  "kernelspec": {
   "display_name": "Python 3",
   "language": "python",
   "name": "python3"
  },
  "language_info": {
   "codemirror_mode": {
    "name": "ipython",
    "version": 3
   },
   "file_extension": ".py",
   "mimetype": "text/x-python",
   "name": "python",
   "nbconvert_exporter": "python",
   "pygments_lexer": "ipython3",
   "version": "3.7.3"
  }
 },
 "nbformat": 4,
 "nbformat_minor": 4
}
