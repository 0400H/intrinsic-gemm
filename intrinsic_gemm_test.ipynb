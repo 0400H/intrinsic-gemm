{
 "cells": [
  {
   "cell_type": "code",
   "execution_count": 1,
   "metadata": {},
   "outputs": [],
   "source": [
    "import ctypes\n",
    "import numpy as np"
   ]
  },
  {
   "cell_type": "code",
   "execution_count": 2,
   "metadata": {},
   "outputs": [
    {
     "name": "stdout",
     "output_type": "stream",
     "text": [
      "['_FuncPtr', '__class__', '__delattr__', '__dict__', '__dir__', '__doc__', '__eq__', '__format__', '__ge__', '__getattr__', '__getattribute__', '__getitem__', '__gt__', '__hash__', '__init__', '__init_subclass__', '__le__', '__lt__', '__module__', '__ne__', '__new__', '__reduce__', '__reduce_ex__', '__repr__', '__setattr__', '__sizeof__', '__str__', '__subclasshook__', '__weakref__', '_func_flags_', '_func_restype_', '_handle', '_name']\n"
     ]
    }
   ],
   "source": [
    "intrinsic_gemm_so = ctypes.CDLL('./libintrinsic_gemm.so')\n",
    "print(dir(intrinsic_gemm_so))"
   ]
  },
  {
   "cell_type": "code",
   "execution_count": 6,
   "metadata": {},
   "outputs": [],
   "source": [
    "get_instance_func = intrinsic_gemm_so.get_instance\n",
    "get_instance_func.argtypes = None\n",
    "get_instance_func.restype = ctypes.c_void_p\n",
    "\n",
    "instance_init_func = intrinsic_gemm_so.instance_init\n",
    "instance_init_func.argtypes = (ctypes.c_void_p, ctypes.c_bool, ctypes.c_bool, ctypes.c_int, ctypes.c_int, ctypes.c_int)\n",
    "instance_init_func.restype = ctypes.c_int\n",
    "\n",
    "instance_dispatch_func = intrinsic_gemm_so.instance_dispatch\n",
    "instance_dispatch_func.argtypes =  (ctypes.c_void_p, ctypes.c_float, ctypes.c_float, ctypes.c_char_p, ctypes.c_char_p, ctypes.POINTER(ctypes.c_int))\n",
    "instance_dispatch_func.restype = ctypes.c_int"
   ]
  },
  {
   "cell_type": "code",
   "execution_count": 9,
   "metadata": {},
   "outputs": [],
   "source": [
    "m, n, k = 2, 2, 3\n",
    "matrix_a = np.arange(0, m*k, 1, dtype=np.int8)\n",
    "matrix_b = np.arange(0, n*k, 1, dtype=np.int8)\n",
    "matrix_c = np.arange(0, m*n, 1, dtype=np.int32)\n",
    "\n",
    "intrinnsic_gemm_engine = get_instance_func()\n",
    "status = instance_init_func(intrinnsic_gemm_engine, False, False, m, n, k)\n",
    "status = instance_dispatch_func(intrinnsic_gemm_engine, 1.0, 1.0, matrix_a.ctypes.data_as(ctypes.c_char_p),\n",
    "                                                                    matrix_b.ctypes.data_as(ctypes.c_char_p), matrix_c.ctypes.data_as(ctypes.POINTER(ctypes.c_int)))"
   ]
  },
  {
   "cell_type": "code",
   "execution_count": 10,
   "metadata": {},
   "outputs": [
    {
     "name": "stdout",
     "output_type": "stream",
     "text": [
      "5\n",
      "14\n",
      "14\n",
      "50\n"
     ]
    }
   ],
   "source": [
    "for arg in matrix_c:\n",
    "    print(arg)"
   ]
  },
  {
   "cell_type": "code",
   "execution_count": null,
   "metadata": {},
   "outputs": [],
   "source": []
  }
 ],
 "metadata": {
  "kernelspec": {
   "display_name": "Python 3",
   "language": "python",
   "name": "python3"
  },
  "language_info": {
   "codemirror_mode": {
    "name": "ipython",
    "version": 3
   },
   "file_extension": ".py",
   "mimetype": "text/x-python",
   "name": "python",
   "nbconvert_exporter": "python",
   "pygments_lexer": "ipython3",
   "version": "3.7.3"
  }
 },
 "nbformat": 4,
 "nbformat_minor": 4
}
