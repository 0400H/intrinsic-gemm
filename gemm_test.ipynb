{
 "cells": [
  {
   "cell_type": "code",
   "execution_count": 1,
   "metadata": {},
   "outputs": [],
   "source": [
    "import ctypes\n",
    "import numpy as np\n",
    "import numba as nb"
   ]
  },
  {
   "cell_type": "code",
   "execution_count": 2,
   "metadata": {},
   "outputs": [],
   "source": [
    "gemm_intrinsic_so = ctypes.CDLL('./libgemm_intrinsic.so')"
   ]
  },
  {
   "cell_type": "code",
   "execution_count": 3,
   "metadata": {},
   "outputs": [],
   "source": [
    "@nb.jit(nopython=True)\n",
    "def cout_error(matrix_a, matrix_b, length, debug=False, loss_rate=1e-4):\n",
    "    error_num = 0\n",
    "    zero_offset = 1e-10\n",
    "    for idx in range(length):\n",
    "        cur_loss_rate = abs(float(matrix_b[idx] - matrix_a[idx])) \\\n",
    "                      / (abs(float(matrix_a[idx]))+zero_offset)\n",
    "        if cur_loss_rate > loss_rate:\n",
    "            error_num += 1\n",
    "        if debug == True:\n",
    "            print(idx, matrix_a[idx], matrix_b[idx])\n",
    "    return error_num"
   ]
  },
  {
   "cell_type": "code",
   "execution_count": 4,
   "metadata": {},
   "outputs": [],
   "source": [
    "@nb.jit(nopython=True)\n",
    "def gemm_reference(matrix_a, matrix_b, matrix_c, m, n, k):\n",
    "    for m_idx in range(m):\n",
    "        for n_idx in range(n):\n",
    "            for k_idx in range(k):\n",
    "                matrix_c[m_idx*n+n_idx] += matrix_a[m_idx*k+k_idx] * matrix_b[n_idx*k+k_idx];\n",
    "    return None"
   ]
  },
  {
   "cell_type": "code",
   "execution_count": 5,
   "metadata": {},
   "outputs": [],
   "source": [
    "def gemm_intrinsic_impl(matrix_a, matrix_b, matrix_c, m, n, k, type_a, type_b, type_c):\n",
    "    type_dict = {\"<class 'numpy.float32'>\": 1,\n",
    "                 \"<class 'numpy.int8'>\": 3,\n",
    "                 \"<class 'numpy.int32'>\": 5,\n",
    "                 \"<class 'numpy.uint8'>\": 7}\n",
    "\n",
    "    get_instance_func = gemm_intrinsic_so.get_instance\n",
    "    get_instance_func.argtypes = (ctypes.c_int, ctypes.c_int, ctypes.c_int)\n",
    "    get_instance_func.restype = ctypes.c_void_p\n",
    "\n",
    "    instance_init_func = gemm_intrinsic_so.instance_init\n",
    "    instance_init_func.argtypes = (ctypes.c_void_p, ctypes.c_bool, ctypes.c_bool,\n",
    "                                   ctypes.c_int, ctypes.c_int, ctypes.c_int)\n",
    "    instance_init_func.restype = ctypes.c_int\n",
    "\n",
    "    instance_dispatch_func = gemm_intrinsic_so.instance_dispatch\n",
    "    instance_dispatch_func.argtypes = (ctypes.c_void_p, ctypes.c_float, ctypes.c_float,\n",
    "                                       ctypes.c_void_p, ctypes.c_void_p, ctypes.c_void_p)\n",
    "    instance_dispatch_func.restype = ctypes.c_int\n",
    "\n",
    "    intrinnsic_gemm_engine = get_instance_func(type_dict[str(type_a)], type_dict[str(type_b)], type_dict[str(type_c)])\n",
    "    status = instance_init_func(intrinnsic_gemm_engine, False, False, m, n, k)\n",
    "    status = instance_dispatch_func(intrinnsic_gemm_engine, 1.0, 1.0,\n",
    "                                    matrix_a.ctypes.data_as(ctypes.c_void_p),\n",
    "                                    matrix_b.ctypes.data_as(ctypes.c_void_p),\n",
    "                                    matrix_c.ctypes.data_as(ctypes.c_void_p))\n",
    "    return status"
   ]
  },
  {
   "cell_type": "code",
   "execution_count": 6,
   "metadata": {},
   "outputs": [],
   "source": [
    "def test_error_num(m, n, k, a_type, b_type, c_type, debug=False, loss_rate=1e-4):\n",
    "    if debug == True:\n",
    "        matrix_a = np.ones(m*k, dtype=a_type)\n",
    "        matrix_b = np.ones(n*k, dtype=b_type)\n",
    "    else:\n",
    "        matrix_a = np.arange(0, m*k, 1, dtype=a_type)\n",
    "        matrix_b = np.arange(0, n*k, 1, dtype=b_type)\n",
    "    matrix_c= np.zeros(shape=(m*n), dtype=c_type)\n",
    "    matrix_c_ref = np.zeros(shape=(m*n), dtype=np.float)\n",
    "\n",
    "    gemm_intrinsic_impl(matrix_a, matrix_b, matrix_c, m, n, k, a_type, b_type, c_type)\n",
    "    gemm_reference(matrix_a.copy().astype(np.float), matrix_b.copy().astype(np.float), matrix_c_ref, m, n, k)\n",
    "\n",
    "    error_num = cout_error(matrix_c_ref, matrix_c, m*n, debug, loss_rate)\n",
    "    return error_num"
   ]
  },
  {
   "cell_type": "code",
   "execution_count": 7,
   "metadata": {},
   "outputs": [
    {
     "name": "stdout",
     "output_type": "stream",
     "text": [
      "s8s8s32, error_num: 0\n",
      "f32f32f32, error_num: 0\n"
     ]
    }
   ],
   "source": [
    "m, n, k = 47, 47, 32768\n",
    "error_num = test_error_num(m, n, k, np.int8, np.int8, np.int32, False)\n",
    "print('s8s8s32, error_num:', error_num)\n",
    "m, n, k = 47, 47, 32768\n",
    "error_num = test_error_num(m, n, k, np.float32, np.float32, np.float32, False)\n",
    "print('f32f32f32, error_num:', error_num)"
   ]
  },
  {
   "cell_type": "code",
   "execution_count": null,
   "metadata": {},
   "outputs": [],
   "source": []
  }
 ],
 "metadata": {
  "kernelspec": {
   "display_name": "Python 3",
   "language": "python",
   "name": "python3"
  },
  "language_info": {
   "codemirror_mode": {
    "name": "ipython",
    "version": 3
   },
   "file_extension": ".py",
   "mimetype": "text/x-python",
   "name": "python",
   "nbconvert_exporter": "python",
   "pygments_lexer": "ipython3",
   "version": "3.7.3"
  }
 },
 "nbformat": 4,
 "nbformat_minor": 4
}
